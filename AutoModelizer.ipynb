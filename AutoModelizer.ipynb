{
 "cells": [
  {
   "cell_type": "markdown",
   "metadata": {},
   "source": [
    "# AutoModelizer\n",
    "---\n",
    "\n",
    "La idea de este proyecto es encontrar el mejor modelo de CNN que se adapte al dataset correspondiente, para ello usando algoritmos evolutivos. Este tipo de soluciones se conocen como neuroevoluciones\n",
    "\n",
    "A continuación un ejemplo básico de como funcionan este tipo de algoritmos"
   ]
  },
  {
   "cell_type": "code",
   "execution_count": 1,
   "metadata": {},
   "outputs": [
    {
     "name": "stderr",
     "output_type": "stream",
     "text": [
      "c:\\Python311\\Lib\\site-packages\\tqdm\\auto.py:21: TqdmWarning: IProgress not found. Please update jupyter and ipywidgets. See https://ipywidgets.readthedocs.io/en/stable/user_install.html\n",
      "  from .autonotebook import tqdm as notebook_tqdm\n"
     ]
    }
   ],
   "source": [
    "import numpy as np\n",
    "import torch\n",
    "import torchvision\n",
    "import torchvision.datasets as datasets\n",
    "import torchvision.transforms as transforms\n",
    "from torch.utils.data import DataLoader\n",
    "import torch.nn as nn\n",
    "import torch.optim as optim\n",
    "import torch.nn.functional as F\n",
    "\n",
    "\n",
    "def fitness(x):\n",
    "    return x ** 2\n",
    "\n",
    "population_size = 10\n",
    "population = np.random.uniform(-10, 10, population_size)"
   ]
  },
  {
   "cell_type": "code",
   "execution_count": 2,
   "metadata": {},
   "outputs": [],
   "source": [
    "def select_parent_tournament(population, scores, k=3):\n",
    "    selection_ix = np.random.randint(len(population), size=k)\n",
    "    selected = population[selection_ix]\n",
    "    ix = np.argmax(scores[selection_ix])\n",
    "    return selected[ix]\n",
    "\n",
    "def crossover(p1, p2):\n",
    "    child = (p1 + p2) / 2\n",
    "    return child\n",
    "\n",
    "def mutate(x):\n",
    "    mutation_chance = 0.1\n",
    "    if np.random.rand() < mutation_chance:\n",
    "        x += np.random.uniform(-1, 1)\n",
    "    return x"
   ]
  },
  {
   "cell_type": "code",
   "execution_count": 3,
   "metadata": {},
   "outputs": [
    {
     "name": "stdout",
     "output_type": "stream",
     "text": [
      "Generación 0, x = 7.5494467764944595 Mejor puntuación 76.69341927871703\n",
      "Generación 1, x = 7.74815554317817 Mejor puntuación 56.99414663112258\n",
      "Generación 2, x = 7.5494467764944595 Mejor puntuación 60.033914321282595\n",
      "Generación 3, x = 7.827564799677173 Mejor puntuación 65.70209402480582\n",
      "Generación 4, x = 7.8772419913481 Mejor puntuación 63.69287515253533\n",
      "Generación 5, x = 7.929011802115674 Mejor puntuación 62.869228158089655\n",
      "Generación 6, x = 7.909859700464915 Mejor puntuación 62.869228158089655\n",
      "Generación 7, x = 7.922802153156809 Mejor puntuación 62.869228158089655\n",
      "Generación 8, x = 7.922802153156809 Mejor puntuación 62.869228158089655\n",
      "Generación 9, x = 7.922802153156809 Mejor puntuación 62.869228158089655\n",
      "Generación 10, x = 8.130587145594077 Mejor puntuación 69.42493174430649\n",
      "Generación 11, x = 8.129810939474218 Mejor puntuación 78.51624608260641\n",
      "Generación 12, x = 8.67745997051053 Mejor puntuación 78.51624608260641\n",
      "Generación 13, x = 9.102225837593931 Mejor puntuación 89.78901450573744\n",
      "Generación 14, x = 9.43163177601296 Mejor puntuación 95.11254904013771\n",
      "Generación 15, x = 9.589981169181026 Mejor puntuación 95.11254904013771\n",
      "Generación 16, x = 9.672332653785784 Mejor puntuación 95.11254904013771\n",
      "Generación 17, x = 9.59209902786151 Mejor puntuación 93.55401896549074\n",
      "Generación 18, x = 9.652274247304716 Mejor puntuación 110.94075054229346\n",
      "Generación 19, x = 10.082528681761353 Mejor puntuación 116.22374767986886\n",
      "Generación 20, x = 10.082528681761353 Mejor puntuación 121.15453420257651\n",
      "Generación 21, x = 10.823076012206982 Mejor puntuación 121.15453420257651\n",
      "Generación 22, x = 11.007022040614642 Mejor puntuación 121.15453420257651\n",
      "Generación 23, x = 10.961035533512728 Mejor puntuación 121.15453420257651\n",
      "Generación 24, x = 10.984028787063686 Mejor puntuación 121.15453420257651\n",
      "Generación 25, x = 10.971514477728004 Mejor puntuación 121.15453420257651\n",
      "Generación 26, x = 10.971514477728004 Mejor puntuación 121.15453420257651\n",
      "Generación 27, x = 11.001273727226902 Mejor puntuación 121.0280236213729\n",
      "Generación 28, x = 11.838693245301716 Mejor puntuación 121.0280236213729\n",
      "Generación 29, x = 11.836641466815642 Mejor puntuación 140.15465775635246\n",
      "Generación 30, x = 11.20937979392447 Mejor puntuación 140.10608121393955\n",
      "Generación 31, x = 11.524147981402141 Mejor puntuación 140.10608121393955\n",
      "Generación 32, x = 11.836641466815642 Mejor puntuación 140.10608121393955\n",
      "Generación 33, x = 11.836641466815642 Mejor puntuación 140.10608121393955\n",
      "Generación 34, x = 11.836641466815642 Mejor puntuación 140.10608121393955\n",
      "Generación 35, x = 11.836641466815642 Mejor puntuación 147.04951680662734\n",
      "Generación 36, x = 11.836641466815642 Mejor puntuación 143.55680936773265\n",
      "Generación 37, x = 11.98151949327516 Mejor puntuación 143.55680936773265\n",
      "Generación 38, x = 11.98151949327516 Mejor puntuación 143.55680936773265\n",
      "Generación 39, x = 11.98151949327516 Mejor puntuación 143.55680936773265\n",
      "Generación 40, x = 12.411463315099223 Mejor puntuación 164.9017372562243\n",
      "Generación 41, x = 12.411463315099223 Mejor puntuación 154.0444216220538\n",
      "Generación 42, x = 12.61921936311742 Mejor puntuación 164.5312981978778\n",
      "Generación 43, x = 12.558534024309388 Mejor puntuación 159.24469733447762\n",
      "Generación 44, x = 12.61921936311742 Mejor puntuación 159.24469733447762\n",
      "Generación 45, x = 12.61921936311742 Mejor puntuación 159.24469733447762\n",
      "Generación 46, x = 12.908944242134666 Mejor puntuación 174.20486656964894\n",
      "Generación 47, x = 12.908944242134666 Mejor puntuación 166.64084144654174\n",
      "Generación 48, x = 12.908944242134666 Mejor puntuación 166.64084144654174\n",
      "Generación 49, x = 12.908944242134666 Mejor puntuación 166.64084144654174\n",
      "Generación 50, x = 12.908944242134666 Mejor puntuación 166.64084144654174\n",
      "Generación 51, x = 12.908944242134666 Mejor puntuación 166.64084144654174\n",
      "Generación 52, x = 13.139308723641513 Mejor puntuación 192.43390637516146\n",
      "Generación 53, x = 13.834671827175036 Mejor puntuación 214.68555234250485\n",
      "Generación 54, x = 14.262103335587678 Mejor puntuación 203.40759155498117\n",
      "Generación 55, x = 14.262103335587678 Mejor puntuación 203.40759155498117\n",
      "Generación 56, x = 13.894178898766524 Mejor puntuación 203.40759155498117\n",
      "Generación 57, x = 14.262103335587678 Mejor puntuación 203.40759155498117\n",
      "Generación 58, x = 14.262103335587678 Mejor puntuación 203.40759155498117\n",
      "Generación 59, x = 14.262103335587678 Mejor puntuación 203.40759155498117\n",
      "Generación 60, x = 14.262103335587678 Mejor puntuación 203.40759155498117\n",
      "Generación 61, x = 14.262103335587678 Mejor puntuación 203.40759155498117\n",
      "Generación 62, x = 14.262103335587678 Mejor puntuación 227.00996847510058\n",
      "Generación 63, x = 14.409444151242447 Mejor puntuación 215.04687572254426\n",
      "Generación 64, x = 14.779635328433663 Mejor puntuación 225.66980527913157\n",
      "Generación 65, x = 14.690176930760988 Mejor puntuación 220.32632928118127\n",
      "Generación 66, x = 14.843393455715619 Mejor puntuación 220.32632928118127\n",
      "Generación 67, x = 14.835423689805374 Mejor puntuación 220.32632928118127\n",
      "Generación 68, x = 14.843393455715619 Mejor puntuación 220.32632928118127\n",
      "Generación 69, x = 14.841401014238059 Mejor puntuación 220.32632928118127\n",
      "Generación 70, x = 14.843393455715619 Mejor puntuación 231.88286566628523\n",
      "Generación 71, x = 15.035547029549544 Mejor puntuación 231.88286566628523\n",
      "Generación 72, x = 15.442335806497818 Mejor puntuación 251.19475006159524\n",
      "Generación 73, x = 16.090887536315087 Mejor puntuación 239.95169285467176\n",
      "Generación 74, x = 15.790630868135693 Mejor puntuación 258.9166617063402\n",
      "Generación 75, x = 15.778621269771072 Mejor puntuación 249.3440232137198\n",
      "Generación 76, x = 16.085596057684647 Mejor puntuación 268.7163789279569\n",
      "Generación 77, x = 16.114246596801586 Mejor puntuación 260.39929428741584\n",
      "Generación 78, x = 16.102923726834273 Mejor puntuación 259.6689433825315\n",
      "Generación 79, x = 16.181711249641207 Mejor puntuación 264.0357175097637\n",
      "Generación 80, x = 16.155358026286827 Mejor puntuación 264.0357175097637\n",
      "Generación 81, x = 16.22054848633965 Mejor puntuación 264.0357175097637\n",
      "Generación 82, x = 16.225653396618277 Mejor puntuación 295.25254789525724\n",
      "Generación 83, x = 16.231534023083917 Mejor puntuación 279.22959874531136\n",
      "Generación 84, x = 16.47084927842167 Mejor puntuación 271.2888759524837\n",
      "Generación 85, x = 16.47084927842167 Mejor puntuación 271.2888759524837\n",
      "Generación 86, x = 16.786316257887563 Mejor puntuación 296.3006422469789\n",
      "Generación 87, x = 16.99985090618085 Mejor puntuación 294.38270230290453\n",
      "Generación 88, x = 17.66606706777045 Mejor puntuación 312.4763266454448\n",
      "Generación 89, x = 17.457346438532277 Mejor puntuación 312.0899256429636\n",
      "Generación 90, x = 17.643197815792497 Mejor puntuación 346.0595754291431\n",
      "Generación 91, x = 17.888784816405636 Mejor puntuación 346.0595754291431\n",
      "Generación 92, x = 18.430952833891006 Mejor puntuación 341.81332026639956\n",
      "Generación 93, x = 18.459573455953688 Mejor puntuación 341.81332026639956\n",
      "Generación 94, x = 18.417267951127734 Mejor puntuación 342.6221386802853\n",
      "Generación 95, x = 18.47628191378883 Mejor puntuación 342.6221386802853\n",
      "Generación 96, x = 18.499124573817106 Mejor puntuación 342.6221386802853\n",
      "Generación 97, x = 18.504589821717474 Mejor puntuación 342.41984447000993\n",
      "Generación 98, x = 18.503223509742384 Mejor puntuación 366.5909983580965\n",
      "Generación 99, x = 18.933616714010185 Mejor puntuación 362.63667602580995\n",
      "Generación 100, x = 18.93351109478423 Mejor puntuación 362.63667602580995\n",
      "Generación 101, x = 18.960915154564894 Mejor puntuación 360.556266585885\n",
      "Generación 102, x = 18.988266404732585 Mejor puntuación 397.55693288987163\n",
      "Generación 103, x = 19.463521686231452 Mejor puntuación 397.55693288987163\n",
      "Generación 104, x = 19.938829777343294 Mejor puntuación 400.4455391146363\n",
      "Generación 105, x = 19.58146765802639 Mejor puntuación 397.55693288987163\n",
      "Generación 106, x = 19.92916958235844 Mejor puntuación 397.55693288987163\n",
      "Generación 107, x = 19.93758578752523 Mejor puntuación 397.50732703492804\n",
      "Generación 108, x = 19.141252021502755 Mejor puntuación 397.50732703492804\n",
      "Generación 109, x = 19.93743028879797 Mejor puntuación 420.6274796711632\n",
      "Generación 110, x = 20.223317521760613 Mejor puntuación 408.9825715859498\n",
      "Generación 111, x = 20.223317521760613 Mejor puntuación 410.39282825789405\n",
      "Generación 112, x = 20.66055119231762 Mejor puntuación 444.3818441041616\n",
      "Generación 113, x = 20.66055119231762 Mejor puntuación 467.6412879520921\n",
      "Generación 114, x = 20.901667226329874 Mejor puntuación 447.0172839938033\n",
      "Generación 115, x = 21.142783260342128 Mejor puntuación 447.0172839938033\n",
      "Generación 116, x = 21.142783260342128 Mejor puntuación 461.39213193818966\n",
      "Generación 117, x = 21.42552595230726 Mejor puntuación 463.95609636535187\n",
      "Generación 118, x = 21.42552595230726 Mejor puntuación 463.95609636535187\n",
      "Generación 119, x = 21.100811603438718 Mejor puntuación 493.5109486984984\n",
      "Generación 120, x = 21.82031613491117 Mejor puntuación 477.37201367851236\n",
      "Generación 121, x = 21.834580405484637 Mejor puntuación 496.2190075632078\n",
      "Generación 122, x = 22.051711021911217 Mejor puntuación 486.43524749703124\n",
      "Generación 123, x = 21.998319884715414 Mejor puntuación 508.1046726830187\n",
      "Generación 124, x = 22.053494055732898 Mejor puntuación 497.2109353438718\n",
      "Generación 125, x = 22.236598140023414 Mejor puntuación 497.2109353438718\n",
      "Generación 126, x = 23.225069496004124 Mejor puntuación 497.2109353438718\n",
      "Generación 127, x = 22.298004300166436 Mejor puntuación 539.4038530942213\n",
      "Generación 128, x = 22.99335891685163 Mejor puntuación 539.4038530942213\n",
      "Generación 129, x = 22.99335891685163 Mejor puntuación 539.4038530942213\n",
      "Generación 130, x = 23.10921420642788 Mejor puntuación 534.0357812385681\n",
      "Generación 131, x = 23.10921420642788 Mejor puntuación 534.0357812385681\n",
      "Generación 132, x = 23.09473229523085 Mejor puntuación 534.0357812385681\n",
      "Generación 133, x = 23.10921420642788 Mejor puntuación 534.0357812385681\n",
      "Generación 134, x = 23.90054970287756 Mejor puntuación 534.0357812385681\n",
      "Generación 135, x = 23.652632150561505 Mejor puntuación 571.2362760997206\n",
      "Generación 136, x = 23.38092317849469 Mejor puntuación 559.4470076497757\n",
      "Generación 137, x = 23.991468769972684 Mejor puntuación 599.1752052366769\n",
      "Generación 138, x = 24.009937544461284 Mejor puntuación 578.4119104124824\n",
      "Generación 139, x = 24.03930098041264 Mejor puntuación 592.3965032516771\n",
      "Generación 140, x = 24.230172474488686 Mejor puntuación 592.3965032516771\n",
      "Generación 141, x = 24.312487300609526 Mejor puntuación 592.3965032516771\n",
      "Generación 142, x = 24.298585981163097 Mejor puntuación 592.3965032516771\n",
      "Generación 143, x = 24.305809913525746 Mejor puntuación 603.6309315419716\n",
      "Generación 144, x = 24.568901716234112 Mejor puntuación 603.6309315419716\n",
      "Generación 145, x = 24.568901716234112 Mejor puntuación 603.6309315419716\n",
      "Generación 146, x = 24.536849914281042 Mejor puntuación 603.6309315419716\n",
      "Generación 147, x = 24.54486286476931 Mejor puntuación 603.6309315419716\n",
      "Generación 148, x = 24.568901716234112 Mejor puntuación 603.6309315419716\n",
      "Generación 149, x = 24.568901716234112 Mejor puntuación 603.6309315419716\n",
      "Generación 150, x = 24.568901716234112 Mejor puntuación 603.6309315419716\n",
      "Generación 151, x = 24.568901716234112 Mejor puntuación 603.6309315419716\n",
      "Generación 152, x = 24.568901716234112 Mejor puntuación 603.6309315419716\n",
      "Generación 153, x = 24.940650022515115 Mejor puntuación 640.7175091556406\n",
      "Generación 154, x = 25.200656397074294 Mejor puntuación 640.7175091556406\n",
      "Generación 155, x = 25.169120712160087 Mejor puntuación 637.5285118808534\n",
      "Generación 156, x = 25.708253266119332 Mejor puntuación 678.280780742719\n",
      "Generación 157, x = 25.640491776355006 Mejor puntuación 678.280780742719\n",
      "Generación 158, x = 25.860619332785586 Mejor puntuación 671.0320379721188\n",
      "Generación 159, x = 26.000070605222152 Mejor puntuación 670.3005102080543\n",
      "Generación 160, x = 25.857948609417807 Mejor puntuación 676.0036714765371\n",
      "Generación 161, x = 25.91378461303297 Mejor puntuación 673.1490708900795\n",
      "Generación 162, x = 26.043261555867012 Mejor puntuación 684.8104711918209\n",
      "Generación 163, x = 26.106072600111297 Mejor puntuación 684.8104711918209\n",
      "Generación 164, x = 26.109507230854785 Mejor puntuación 681.8857326672115\n",
      "Generación 165, x = 26.112941861598273 Mejor puntuación 681.8857326672115\n",
      "Generación 166, x = 26.114648668242367 Mejor puntuación 682.064023290632\n",
      "Generación 167, x = 26.114648668242367 Mejor puntuación 728.3407685153823\n",
      "Generación 168, x = 26.551218958314955 Mejor puntuación 704.9672281723834\n",
      "Generación 169, x = 26.551218958314955 Mejor puntuación 757.3809057597017\n",
      "Generación 170, x = 27.035886599910732 Mejor puntuación 730.9391642432327\n",
      "Generación 171, x = 27.035886599910732 Mejor puntuación 730.9391642432327\n",
      "Generación 172, x = 27.25372284651318 Mejor puntuación 742.7654089945545\n",
      "Generación 173, x = 27.199263784862566 Mejor puntuación 742.7654089945545\n",
      "Generación 174, x = 27.402613537280374 Mejor puntuación 759.085385228123\n",
      "Generación 175, x = 28.2318068843548 Mejor puntuación 797.8375480084356\n",
      "Generación 176, x = 28.065284066243485 Mejor puntuación 797.8375480084356\n",
      "Generación 177, x = 28.152098321264635 Mejor puntuación 797.4361834911115\n",
      "Generación 178, x = 28.184423357619515 Mejor puntuación 797.2355391005927\n",
      "Generación 179, x = 28.23535973032029 Mejor puntuación 797.2355391005927\n",
      "Generación 180, x = 28.864826237067238 Mejor puntuación 845.8086397494391\n",
      "Generación 181, x = 29.085502253796896 Mejor puntuación 846.1242576808742\n",
      "Generación 182, x = 29.085502253796896 Mejor puntuación 845.9664413556243\n",
      "Generación 183, x = 29.085502253796896 Mejor puntuación 845.9664413556243\n",
      "Generación 184, x = 29.085502253796896 Mejor puntuación 845.9664413556243\n",
      "Generación 185, x = 29.085502253796896 Mejor puntuación 845.9664413556243\n",
      "Generación 186, x = 29.085502253796896 Mejor puntuación 873.6792913033195\n",
      "Generación 187, x = 29.321784343784792 Mejor puntuación 873.6792913033195\n",
      "Generación 188, x = 29.380854866281766 Mejor puntuación 866.709206896859\n",
      "Generación 189, x = 29.43992538877874 Mejor puntuación 866.709206896859\n",
      "Generación 190, x = 29.693752058176145 Mejor puntuación 896.8574716442158\n",
      "Generación 191, x = 29.63177838562221 Mejor puntuación 885.5797329050963\n",
      "Generación 192, x = 29.693752058176145 Mejor puntuación 917.0902785481043\n",
      "Generación 193, x = 30.00486017108506 Mejor puntuación 917.0902785481043\n",
      "Generación 194, x = 30.53551658924391 Mejor puntuación 909.1610004923679\n",
      "Generación 195, x = 30.152296769771418 Mejor puntuación 932.4177733719902\n",
      "Generación 196, x = 30.343906679507665 Mejor puntuación 932.4177733719902\n",
      "Generación 197, x = 29.36554104289282 Mejor puntuación 932.4177733719902\n",
      "Generación 198, x = 30.48761411180985 Mejor puntuación 932.4177733719902\n",
      "Generación 199, x = 30.53551658924391 Mejor puntuación 955.8553788381394\n",
      "Mejor solución: x = 30.53551658924391, f(x) = 932.4177733719902\n"
     ]
    }
   ],
   "source": [
    "n_generations = 200\n",
    "\n",
    "for generation in range(n_generations):\n",
    "    scores = np.array([fitness(x) for x in population])\n",
    "    new_population = []\n",
    "    for _ in range(population_size):\n",
    "        parent1 = select_parent_tournament(population, scores)\n",
    "        parent2 = select_parent_tournament(population, scores)\n",
    "        child = crossover(parent1, parent2)\n",
    "        child = mutate(child)\n",
    "        new_population.append(child)\n",
    "    population = np.array(new_population)\n",
    "    best_score = np.max(scores)\n",
    "    print(f\"Generación {generation}, x = {child} Mejor puntuación {best_score}\")\n",
    "\n",
    "best_solution = population[np.argmax(scores)]\n",
    "print(f\"Mejor solución: x = {best_solution}, f(x) = {fitness(best_solution)}\")\n"
   ]
  },
  {
   "cell_type": "markdown",
   "metadata": {},
   "source": [
    "Preparamos el dataset de prueba (MNIST)\n",
    "---\n",
    "\n",
    "---"
   ]
  },
  {
   "cell_type": "code",
   "execution_count": null,
   "metadata": {},
   "outputs": [],
   "source": []
  },
  {
   "cell_type": "code",
   "execution_count": 4,
   "metadata": {},
   "outputs": [],
   "source": [
    "# DATOS DEL DATASET DE PRUEBA\n",
    "\n",
    "num_channels = 1\n",
    "px_h = 28\n",
    "px_w = 28\n",
    "batch_size = 64\n",
    "num_classes = 10\n",
    "\n",
    "device = torch.device(\"cuda\" if torch.cuda.is_available() else \"cpu\")\n",
    "\n",
    "# Preparar los DataLoader para los conjuntos de entrenamiento y validación\n",
    "transform = transforms.Compose([\n",
    "    transforms.Resize((px_h, px_w)),\n",
    "    transforms.Grayscale(num_output_channels=num_channels),\n",
    "    transforms.ToTensor(),\n",
    "    transforms.Normalize((0.5,), (0.5,))\n",
    "])\n",
    "\n",
    "train_dataset = datasets.MNIST(root='./data', train=True, download=True, transform=transform)\n",
    "val_dataset = datasets.MNIST(root='./data', train=False, download=True, transform=transform)\n",
    "\n",
    "train_loader = DataLoader(dataset=train_dataset, batch_size=batch_size, shuffle=True)\n",
    "val_loader = DataLoader(dataset=val_dataset, batch_size=batch_size, shuffle=False)\n"
   ]
  },
  {
   "cell_type": "markdown",
   "metadata": {},
   "source": [
    "Preparamos el dataset de prueba (CIFAR100)\n",
    "---\n",
    "\n",
    "---"
   ]
  },
  {
   "cell_type": "code",
   "execution_count": 5,
   "metadata": {},
   "outputs": [
    {
     "data": {
      "text/plain": [
       "'\\n# DATOS DEL DATASET DE PRUEBA\\n\\nnum_channels = 3\\npx_h = 32\\npx_w = 32\\nbatch_size = 32\\ndevice = torch.device(\"cuda\" if torch.cuda.is_available() else \"cpu\")\\n\\n# Preparar los DataLoader para los conjuntos de entrenamiento y validación\\ntransform = transforms.Compose([\\n    transforms.Resize((px_h, px_w)),\\n    transforms.ToTensor(),\\n    transforms.Normalize((0.5,), (0.5,))\\n])\\n\\ntrain_dataset = datasets.CIFAR100(root=\\'./data\\', train=True, download=True, transform=transform)\\nval_dataset = datasets.CIFAR100(root=\\'./data\\', train=False, download=True, transform=transform)\\n\\ntrain_loader = DataLoader(dataset=train_dataset, batch_size=batch_size, shuffle=True)\\nval_loader = DataLoader(dataset=val_dataset, batch_size=batch_size, shuffle=False)\\n'"
      ]
     },
     "execution_count": 5,
     "metadata": {},
     "output_type": "execute_result"
    }
   ],
   "source": [
    "\n",
    "# DATOS DEL DATASET DE PRUEBA\n",
    "\n",
    "num_channels = 3\n",
    "px_h = 32\n",
    "px_w = 32\n",
    "batch_size = 32\n",
    "num_classes = 100\n",
    "\n",
    "device = torch.device(\"cuda\" if torch.cuda.is_available() else \"cpu\")\n",
    "\n",
    "# Preparar los DataLoader para los conjuntos de entrenamiento y validación\n",
    "transform = transforms.Compose([\n",
    "    transforms.Resize((px_h, px_w)),\n",
    "    transforms.ToTensor(),\n",
    "    transforms.Normalize((0.5,), (0.5,))\n",
    "])\n",
    "\n",
    "train_dataset = datasets.CIFAR100(root='./data', train=True, download=True, transform=transform)\n",
    "val_dataset = datasets.CIFAR100(root='./data', train=False, download=True, transform=transform)\n",
    "\n",
    "train_loader = DataLoader(dataset=train_dataset, batch_size=batch_size, shuffle=True)\n",
    "val_loader = DataLoader(dataset=val_dataset, batch_size=batch_size, shuffle=False)\n"
   ]
  },
  {
   "cell_type": "markdown",
   "metadata": {},
   "source": [
    "## GENERACIÓN DE LA RED EN BASE A VECTORES\n",
    "\n",
    "\n",
    "---"
   ]
  },
  {
   "cell_type": "markdown",
   "metadata": {},
   "source": [
    "comprobamos si tenemos acceso a la GPU\n"
   ]
  },
  {
   "cell_type": "code",
   "execution_count": 6,
   "metadata": {},
   "outputs": [
    {
     "name": "stdout",
     "output_type": "stream",
     "text": [
      "CUDA (GPU) está disponible en tu sistema.\n"
     ]
    }
   ],
   "source": [
    "if torch.cuda.is_available():\n",
    "    print(\"CUDA (GPU) está disponible en tu sistema.\")\n",
    "else:\n",
    "    print(\"CUDA (GPU) no está disponible en tu sistema.\")"
   ]
  },
  {
   "cell_type": "markdown",
   "metadata": {},
   "source": [
    "Generamos un par de arquitecturas de prueba"
   ]
  },
  {
   "cell_type": "markdown",
   "metadata": {},
   "source": [
    "Construimos una función que sea capaz de crear modelos en base a vectores que representen la arquitectura de la red.\n",
    "De este modo el algorimo evolutivo puede ir adaptando y cambiando la red fácilmente"
   ]
  },
  {
   "cell_type": "code",
   "execution_count": 7,
   "metadata": {},
   "outputs": [],
   "source": [
    "import torch\n",
    "\n",
    "def build_cnn_from_individual(individual):\n",
    "    layers = []\n",
    "    num_layers = individual['num_conv_layers']\n",
    "    out_channels_previous_layer = num_channels # Imagen de entrada en escala de grises (1 canal para MNIST)\n",
    "\n",
    "    for i in range(num_layers):\n",
    "        out_channels = individual['filters'][i]\n",
    "        kernel_size = individual['filter_sizes'][i]\n",
    "        \n",
    "        conv_layer = nn.Conv2d(out_channels_previous_layer, out_channels, kernel_size=kernel_size, padding=1)\n",
    "        layers.append(conv_layer)\n",
    "        layers.append(nn.ReLU())\n",
    "        layers.append(nn.MaxPool2d(kernel_size=2, stride=2))\n",
    "\n",
    "        out_channels_previous_layer = out_channels\n",
    "\n",
    "    # Temporalmente crear un modelo para calcular el tamaño de salida de las capas convolucionales\n",
    "    temp_model = nn.Sequential(*layers)\n",
    "\n",
    "    # Calcular el tamaño de salida usando un tensor dummy\n",
    "    dummy_input = torch.zeros(1, num_channels, px_h, px_w)  # Tamaño de entrada para MNIST\n",
    "    output_size = temp_model(dummy_input).view(-1).shape[0]\n",
    "\n",
    "    # Ahora, sabiendo el tamaño de salida, podemos definir las capas lineales correctamente\n",
    "    layers.append(nn.Flatten())\n",
    "    layers.append(nn.Linear(output_size, num_classes))  # Salida de 10 clases para MNIST\n",
    "    return nn.Sequential(*layers)\n"
   ]
  },
  {
   "cell_type": "markdown",
   "metadata": {},
   "source": [
    "Definimos la población inicial"
   ]
  },
  {
   "cell_type": "code",
   "execution_count": 8,
   "metadata": {},
   "outputs": [],
   "source": [
    "import random\n",
    "from tqdm import tqdm\n",
    "\n",
    "def generate_individual(min_conv_layers, max_conv_layers, min_filters, max_filters, filter_sizes, lr_min, lr_max):\n",
    "    individual = {\n",
    "        'num_conv_layers': random.randint(min_conv_layers, max_conv_layers),\n",
    "        'filters': [],\n",
    "        'filter_sizes': [],\n",
    "        'learning_rate': random.uniform(lr_min, lr_max),\n",
    "    }\n",
    "\n",
    "    for _ in range(individual['num_conv_layers']):\n",
    "        individual['filters'].append(random.randint(min_filters, max_filters))\n",
    "        individual['filter_sizes'].append(random.choice(filter_sizes))\n",
    "    \n",
    "    # Agrega más parámetros según sea necesario, como capas completamente conectadas, etc.\n",
    "\n",
    "    return individual\n",
    "\n",
    "def initialize_population(pop_size, min_conv_layers, max_conv_layers, min_filters, max_filters, filter_sizes, lr_min, lr_max):\n",
    "    return [generate_individual(min_conv_layers, max_conv_layers, min_filters, max_filters, filter_sizes, lr_min, lr_max) for _ in range(pop_size)]\n"
   ]
  },
  {
   "cell_type": "markdown",
   "metadata": {},
   "source": [
    "### PARAMETROS PARA POSIBLES ARQUITECTURAS DE RED\n",
    "---"
   ]
  },
  {
   "cell_type": "code",
   "execution_count": 9,
   "metadata": {},
   "outputs": [],
   "source": [
    "## AJUSTAR SEGÚN VAYA NECESITANDO Y TIEMPO \n",
    "\n",
    "population_size = 10\n",
    "min_conv_layers = 1\n",
    "max_conv_layers = 3\n",
    "min_filters = 16\n",
    "max_filters = 128\n",
    "filter_sizes = [3, 5]\n",
    "lr_min = 0.0001\n",
    "lr_max = 0.01"
   ]
  },
  {
   "cell_type": "code",
   "execution_count": 10,
   "metadata": {},
   "outputs": [
    {
     "data": {
      "text/plain": [
       "[{'num_conv_layers': 2,\n",
       "  'filters': [100, 109],\n",
       "  'filter_sizes': [3, 3],\n",
       "  'learning_rate': 0.004766873762543886},\n",
       " {'num_conv_layers': 2,\n",
       "  'filters': [24, 75],\n",
       "  'filter_sizes': [5, 5],\n",
       "  'learning_rate': 0.003982881181242181},\n",
       " {'num_conv_layers': 2,\n",
       "  'filters': [48, 78],\n",
       "  'filter_sizes': [3, 3],\n",
       "  'learning_rate': 0.007001647934110196},\n",
       " {'num_conv_layers': 3,\n",
       "  'filters': [50, 109, 74],\n",
       "  'filter_sizes': [3, 3, 3],\n",
       "  'learning_rate': 0.003755493959258847},\n",
       " {'num_conv_layers': 1,\n",
       "  'filters': [99],\n",
       "  'filter_sizes': [5],\n",
       "  'learning_rate': 0.0037280778791694328},\n",
       " {'num_conv_layers': 1,\n",
       "  'filters': [118],\n",
       "  'filter_sizes': [3],\n",
       "  'learning_rate': 0.003801014160816255},\n",
       " {'num_conv_layers': 2,\n",
       "  'filters': [80, 103],\n",
       "  'filter_sizes': [3, 5],\n",
       "  'learning_rate': 0.002901995463893161},\n",
       " {'num_conv_layers': 1,\n",
       "  'filters': [67],\n",
       "  'filter_sizes': [3],\n",
       "  'learning_rate': 0.005202401067199825},\n",
       " {'num_conv_layers': 1,\n",
       "  'filters': [33],\n",
       "  'filter_sizes': [3],\n",
       "  'learning_rate': 0.009579825200322531},\n",
       " {'num_conv_layers': 2,\n",
       "  'filters': [108, 125],\n",
       "  'filter_sizes': [3, 5],\n",
       "  'learning_rate': 0.008449572900664368}]"
      ]
     },
     "execution_count": 10,
     "metadata": {},
     "output_type": "execute_result"
    }
   ],
   "source": [
    "\n",
    "\n",
    "population = initialize_population(population_size, min_conv_layers, max_conv_layers, min_filters, max_filters, filter_sizes, lr_min, lr_max)\n",
    "\n",
    "epochs = 10\n",
    "\n",
    "population\n"
   ]
  },
  {
   "cell_type": "markdown",
   "metadata": {},
   "source": [
    "## ENTRENAMIENTO Y EVALUACIÓN DE LOS MODELOS\n",
    "---"
   ]
  },
  {
   "cell_type": "code",
   "execution_count": 11,
   "metadata": {},
   "outputs": [],
   "source": [
    "from tqdm import tqdm\n",
    "import torch.optim as optim\n",
    "import torch.nn as nn\n",
    "\n",
    "def evaluate_individual(individual, train_loader, val_loader, device='cuda', epochs=5):\n",
    "    # Construir el modelo basado en el individuo\n",
    "    model = build_cnn_from_individual(individual).to(device)\n",
    "    \n",
    "    # Definir el optimizador y la función de pérdida\n",
    "    optimizer = torch.optim.Adam(model.parameters(), lr=individual['learning_rate'])\n",
    "    criterion = nn.CrossEntropyLoss()\n",
    "\n",
    "    # Entrenamiento\n",
    "    for epoch in range(epochs):\n",
    "        model.train()\n",
    "        progress_bar = tqdm(total=len(train_loader), desc=f'Epoch {epoch+1}/{epochs}', unit='batch')\n",
    "        for data, targets in train_loader:\n",
    "            data, targets = data.to(device), targets.to(device)\n",
    "            optimizer.zero_grad()\n",
    "            output = model(data)\n",
    "            loss = criterion(output, targets)\n",
    "            loss.backward()\n",
    "            optimizer.step()\n",
    "\n",
    "            # Actualizar la barra de progreso con la última información de pérdida\n",
    "            progress_bar.set_postfix({'training_loss': '{:.3f}'.format(loss.item())})\n",
    "            progress_bar.update()  # Forzar la actualización de la barra de progreso\n",
    "            \n",
    "        progress_bar.close()  # Cerrar la barra de progreso al final de cada época\n",
    "\n",
    "    # Evaluación\n",
    "    model.eval()\n",
    "    correct = 0\n",
    "    total = 0\n",
    "    with torch.no_grad():\n",
    "        for data, targets in val_loader:\n",
    "            data, targets = data.to(device), targets.to(device)\n",
    "            outputs = model(data)\n",
    "            _, predicted = torch.max(outputs.data, 1)\n",
    "            total += targets.size(0)\n",
    "            correct += (predicted == targets).sum().item()\n",
    "\n",
    "    accuracy = correct / total\n",
    "    return accuracy  # Esta es la \"aptitud\" del individuo\n"
   ]
  },
  {
   "cell_type": "markdown",
   "metadata": {},
   "source": [
    "## MUTACIONES Y CRUCES\n",
    "---"
   ]
  },
  {
   "cell_type": "code",
   "execution_count": 12,
   "metadata": {},
   "outputs": [],
   "source": [
    "def mutate_individual(individual):\n",
    "    \"\"\"\n",
    "    Mutar un individuo cambiando aleatoriamente sus hiperparámetros.\n",
    "    \"\"\"\n",
    "    # Define los rangos de mutación para cada hiperparámetro\n",
    "    mutation_rate = 0.1  # Probabilidad de mutar cada característica\n",
    "    lr_range = (0.0001, 0.01)\n",
    "    conv_range = (1, 5)\n",
    "\n",
    "    if random.random() < mutation_rate:\n",
    "        # Mutar la tasa de aprendizaje\n",
    "        individual['learning_rate'] = random.uniform(*lr_range)\n",
    "\n",
    "    for i in range(len(individual['num_conv_layers'])):\n",
    "        if random.random() < mutation_rate:\n",
    "            # Mutar el número de capas\n",
    "            individual['num_conv_layers'][i] = random.randint(*conv_range)\n",
    "\n",
    "    return individual"
   ]
  },
  {
   "cell_type": "markdown",
   "metadata": {},
   "source": [
    "Y el cruce entre individuos"
   ]
  },
  {
   "cell_type": "code",
   "execution_count": 13,
   "metadata": {},
   "outputs": [],
   "source": [
    "def crossover(parent1, parent2):\n",
    "    \"\"\"\n",
    "    Realiza un cruce uniforme entre dos individuos.\n",
    "    \n",
    "    Args:\n",
    "        parent1 (dict): El primer individuo padre.\n",
    "        parent2 (dict): El segundo individuo padre.\n",
    "    \n",
    "    Returns:\n",
    "        dict: Un nuevo individuo hijo.\n",
    "    \"\"\"\n",
    "    child = {}\n",
    "    \n",
    "    for key in parent1:\n",
    "        if random.random() < 0.5:\n",
    "            child[key] = parent1[key]\n",
    "        else:\n",
    "            child[key] = parent2[key]\n",
    "            \n",
    "    return child"
   ]
  },
  {
   "cell_type": "code",
   "execution_count": 14,
   "metadata": {},
   "outputs": [],
   "source": [
    "def evaluate_population(population, train_loader, val_loader, device):\n",
    "    fitness_scores = []\n",
    "    \n",
    "    for individual in population:\n",
    "        print(individual)\n",
    "        fitness = evaluate_individual(individual, train_loader, val_loader, device)\n",
    "        fitness_scores.append(fitness)\n",
    "    \n",
    "    return fitness_scores\n",
    "\n",
    "\n"
   ]
  },
  {
   "cell_type": "markdown",
   "metadata": {},
   "source": [
    "Recopilamos lo que hemos realizado, hemos creado las posibles mutaciones sobre las arquitecturas, los posibles cruces, la evaluación de los modelos.\n"
   ]
  },
  {
   "cell_type": "markdown",
   "metadata": {},
   "source": [
    "Queda realizar:\n",
    "- Selección de reproducción: por torneo en principio para también  puede ser por torneo o ruleta\n",
    "- Creación de la nueva generación usando las funciones de mutación y cruces\n",
    "- Criterios de parada\n",
    "- Registro de análisis"
   ]
  },
  {
   "cell_type": "markdown",
   "metadata": {},
   "source": [
    "## ALGORITMO EVOLUTIVO\n",
    "--- \n"
   ]
  },
  {
   "cell_type": "code",
   "execution_count": 15,
   "metadata": {},
   "outputs": [
    {
     "name": "stdout",
     "output_type": "stream",
     "text": [
      "{'num_conv_layers': 2, 'filters': [100, 109], 'filter_sizes': [3, 3], 'learning_rate': 0.004766873762543886}\n"
     ]
    },
    {
     "name": "stderr",
     "output_type": "stream",
     "text": [
      "Epoch 1/5:  75%|███████▍  | 702/938 [00:13<00:04, 50.08batch/s, training_loss=0.046]"
     ]
    },
    {
     "ename": "KeyboardInterrupt",
     "evalue": "",
     "output_type": "error",
     "traceback": [
      "\u001b[1;31m---------------------------------------------------------------------------\u001b[0m",
      "\u001b[1;31mKeyboardInterrupt\u001b[0m                         Traceback (most recent call last)",
      "Cell \u001b[1;32mIn[15], line 2\u001b[0m\n\u001b[0;32m      1\u001b[0m \u001b[38;5;66;03m# Asumiendo que 'population' ya ha sido inicializada\u001b[39;00m\n\u001b[1;32m----> 2\u001b[0m fitness_scores \u001b[38;5;241m=\u001b[39m \u001b[43mevaluate_population\u001b[49m\u001b[43m(\u001b[49m\u001b[43mpopulation\u001b[49m\u001b[43m,\u001b[49m\u001b[43m \u001b[49m\u001b[43mtrain_loader\u001b[49m\u001b[43m,\u001b[49m\u001b[43m \u001b[49m\u001b[43mval_loader\u001b[49m\u001b[43m,\u001b[49m\u001b[43m \u001b[49m\u001b[43mdevice\u001b[49m\u001b[43m)\u001b[49m\n\u001b[0;32m      4\u001b[0m \u001b[38;5;66;03m# Opcional: Almacenar los individuos y sus puntuaciones en una lista de tuplas y ordenarlos\u001b[39;00m\n\u001b[0;32m      5\u001b[0m population_with_scores \u001b[38;5;241m=\u001b[39m \u001b[38;5;28mlist\u001b[39m(\u001b[38;5;28mzip\u001b[39m(population, fitness_scores))\n",
      "Cell \u001b[1;32mIn[14], line 6\u001b[0m, in \u001b[0;36mevaluate_population\u001b[1;34m(population, train_loader, val_loader, device)\u001b[0m\n\u001b[0;32m      4\u001b[0m \u001b[38;5;28;01mfor\u001b[39;00m individual \u001b[38;5;129;01min\u001b[39;00m population:\n\u001b[0;32m      5\u001b[0m     \u001b[38;5;28mprint\u001b[39m(individual)\n\u001b[1;32m----> 6\u001b[0m     fitness \u001b[38;5;241m=\u001b[39m \u001b[43mevaluate_individual\u001b[49m\u001b[43m(\u001b[49m\u001b[43mindividual\u001b[49m\u001b[43m,\u001b[49m\u001b[43m \u001b[49m\u001b[43mtrain_loader\u001b[49m\u001b[43m,\u001b[49m\u001b[43m \u001b[49m\u001b[43mval_loader\u001b[49m\u001b[43m,\u001b[49m\u001b[43m \u001b[49m\u001b[43mdevice\u001b[49m\u001b[43m)\u001b[49m\n\u001b[0;32m      7\u001b[0m     fitness_scores\u001b[38;5;241m.\u001b[39mappend(fitness)\n\u001b[0;32m      9\u001b[0m \u001b[38;5;28;01mreturn\u001b[39;00m fitness_scores\n",
      "Cell \u001b[1;32mIn[11], line 26\u001b[0m, in \u001b[0;36mevaluate_individual\u001b[1;34m(individual, train_loader, val_loader, device, epochs)\u001b[0m\n\u001b[0;32m     23\u001b[0m     optimizer\u001b[38;5;241m.\u001b[39mstep()\n\u001b[0;32m     25\u001b[0m     \u001b[38;5;66;03m# Actualizar la barra de progreso con la última información de pérdida\u001b[39;00m\n\u001b[1;32m---> 26\u001b[0m     progress_bar\u001b[38;5;241m.\u001b[39mset_postfix({\u001b[38;5;124m'\u001b[39m\u001b[38;5;124mtraining_loss\u001b[39m\u001b[38;5;124m'\u001b[39m: \u001b[38;5;124m'\u001b[39m\u001b[38;5;132;01m{:.3f}\u001b[39;00m\u001b[38;5;124m'\u001b[39m\u001b[38;5;241m.\u001b[39mformat(\u001b[43mloss\u001b[49m\u001b[38;5;241;43m.\u001b[39;49m\u001b[43mitem\u001b[49m\u001b[43m(\u001b[49m\u001b[43m)\u001b[49m)})\n\u001b[0;32m     27\u001b[0m     progress_bar\u001b[38;5;241m.\u001b[39mupdate()  \u001b[38;5;66;03m# Forzar la actualización de la barra de progreso\u001b[39;00m\n\u001b[0;32m     29\u001b[0m progress_bar\u001b[38;5;241m.\u001b[39mclose()  \u001b[38;5;66;03m# Cerrar la barra de progreso al final de cada época\u001b[39;00m\n",
      "\u001b[1;31mKeyboardInterrupt\u001b[0m: "
     ]
    }
   ],
   "source": [
    "# Asumiendo que 'population' ya ha sido inicializada\n",
    "fitness_scores = evaluate_population(population, train_loader, val_loader, device)\n",
    "\n",
    "# Opcional: Almacenar los individuos y sus puntuaciones en una lista de tuplas y ordenarlos\n",
    "population_with_scores = list(zip(population, fitness_scores))\n",
    "population_with_scores.sort(key=lambda x: x[1], reverse=True)  # Ordena de mayor a menor aptitud\n",
    "\n",
    "# Imprime los resultados\n",
    "for i, (individual, score) in enumerate(population_with_scores):\n",
    "    print(f\"Individuo {individual}: Aptitud = {score}\")"
   ]
  },
  {
   "cell_type": "markdown",
   "metadata": {},
   "source": [
    "## RESULTADOS DE LAS ARQUITECTURAS\n",
    "---"
   ]
  },
  {
   "cell_type": "code",
   "execution_count": null,
   "metadata": {},
   "outputs": [],
   "source": [
    "for i, (individual, score) in enumerate(population_with_scores):\n",
    "    print(f\"Individuo {individual}: Aptitud = {score}\")"
   ]
  }
 ],
 "metadata": {
  "kernelspec": {
   "display_name": ".venv",
   "language": "python",
   "name": "python3"
  },
  "language_info": {
   "codemirror_mode": {
    "name": "ipython",
    "version": 3
   },
   "file_extension": ".py",
   "mimetype": "text/x-python",
   "name": "python",
   "nbconvert_exporter": "python",
   "pygments_lexer": "ipython3",
   "version": "3.11.5"
  }
 },
 "nbformat": 4,
 "nbformat_minor": 2
}
