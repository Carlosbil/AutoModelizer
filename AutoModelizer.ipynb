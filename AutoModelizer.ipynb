{
 "cells": [
  {
   "cell_type": "markdown",
   "metadata": {},
   "source": [
    "# AutoModelizer\n",
    "---\n",
    "\n",
    "La idea de este proyecto es encontrar el mejor modelo de CNN que se adapte al dataset correspondiente, para ello usando algoritmos evolutivos. Este tipo de soluciones se conocen como neuroevoluciones\n",
    "\n",
    "A continuación un ejemplo básico de como funcionan este tipo de algoritmos"
   ]
  },
  {
   "cell_type": "code",
   "execution_count": 1,
   "metadata": {},
   "outputs": [],
   "source": [
    "import numpy as np\n",
    "\n",
    "def fitness(x):\n",
    "    return x ** 2\n",
    "\n",
    "population_size = 10\n",
    "population = np.random.uniform(-10, 10, population_size)"
   ]
  },
  {
   "cell_type": "code",
   "execution_count": 2,
   "metadata": {},
   "outputs": [],
   "source": [
    "def select_parent_tournament(population, scores, k=3):\n",
    "    selection_ix = np.random.randint(len(population), size=k)\n",
    "    selected = population[selection_ix]\n",
    "    ix = np.argmax(scores[selection_ix])\n",
    "    return selected[ix]\n",
    "\n",
    "def crossover(p1, p2):\n",
    "    child = (p1 + p2) / 2\n",
    "    return child\n",
    "\n",
    "def mutate(x):\n",
    "    mutation_chance = 0.1\n",
    "    if np.random.rand() < mutation_chance:\n",
    "        x += np.random.uniform(-1, 1)\n",
    "    return x"
   ]
  },
  {
   "cell_type": "code",
   "execution_count": 3,
   "metadata": {},
   "outputs": [
    {
     "name": "stdout",
     "output_type": "stream",
     "text": [
      "Generación 0, x = -1.7112917028591368 Mejor puntuación 78.39434126885519\n",
      "Generación 1, x = -5.014652561095836 Mejor puntuación 76.0335745846789\n",
      "Generación 2, x = -8.64029803762594 Mejor puntuación 82.49949126710509\n",
      "Generación 3, x = -8.754018786721723 Mejor puntuación 82.49949126710509\n",
      "Generación 4, x = -8.258127067953343 Mejor puntuación 82.49949126710509\n",
      "Generación 5, x = -9.08292305742513 Mejor puntuación 82.49949126710509\n",
      "Generación 6, x = -9.539998522795793 Mejor puntuación 101.63080797885924\n",
      "Generación 7, x = -9.71242100034397 Mejor puntuación 109.78006862553974\n",
      "Generación 8, x = -10.148756340462278 Mejor puntuación 105.23416257778825\n",
      "Generación 9, x = -10.148756340462278 Mejor puntuación 105.23416257778825\n",
      "Generación 10, x = -10.258370366573253 Mejor puntuación 105.23416257778825\n",
      "Generación 11, x = -10.258370366573253 Mejor puntuación 105.23416257778825\n",
      "Generación 12, x = -10.258370366573253 Mejor puntuación 105.23416257778825\n",
      "Generación 13, x = -11.201866966932329 Mejor puntuación 125.48182354484969\n",
      "Generación 14, x = -10.96599281684256 Mejor puntuación 132.80376584356563\n",
      "Generación 15, x = -11.08922468051755 Mejor puntuación 132.80376584356563\n",
      "Generación 16, x = -11.287942697166688 Mejor puntuación 132.64939765939152\n",
      "Generación 17, x = -11.517352024636198 Mejor puntuación 132.64939765939152\n",
      "Generación 18, x = -11.498714782098396 Mejor puntuación 132.64939765939152\n",
      "Generación 19, x = -11.472375548080908 Mejor puntuación 132.22044164004816\n",
      "Generación 20, x = -11.498714782098396 Mejor puntuación 147.751733487245\n",
      "Generación 21, x = -11.827015934584796 Mejor puntuación 139.8783059169227\n",
      "Generación 22, x = -11.827015934584796 Mejor puntuación 148.5643827758789\n",
      "Generación 23, x = -12.098278217133299 Mejor puntuación 148.5643827758789\n",
      "Generación 24, x = -12.188698977982797 Mejor puntuación 148.5643827758789\n",
      "Generación 25, x = -12.166093787770421 Mejor puntuación 148.5643827758789\n",
      "Generación 26, x = -12.188698977982797 Mejor puntuación 148.5643827758789\n",
      "Generación 27, x = -12.581241749271635 Mejor puntuación 148.5643827758789\n",
      "Generación 28, x = -12.188698977982797 Mejor puntuación 158.2876439536156\n",
      "Generación 29, x = -12.384970363627216 Mejor puntuación 158.2876439536156\n",
      "Generación 30, x = -12.43403821003832 Mejor puntuación 158.2876439536156\n",
      "Generación 31, x = -12.570088828660774 Mejor puntuación 158.2876439536156\n",
      "Generación 32, x = -12.564512368355343 Mejor puntuación 158.77711956664567\n",
      "Generación 33, x = -12.708754467140063 Mejor puntuación 164.52034372567147\n",
      "Generación 34, x = -12.707360352063706 Mejor puntuación 161.51244010605248\n",
      "Generación 35, x = -12.720957280306198 Mejor puntuación 161.82275412737528\n",
      "Generación 36, x = -12.717906577014665 Mejor puntuación 161.82275412737528\n",
      "Generación 37, x = -12.720957280306198 Mejor puntuación 161.82275412737528\n",
      "Generación 38, x = -12.762745403329802 Mejor puntuación 163.9560788275084\n",
      "Generación 39, x = -13.332195994841369 Mejor puntuación 184.7508754322068\n",
      "Generación 40, x = -13.521840326532924 Mejor puntuación 188.00481153272528\n",
      "Generación 41, x = -13.521840326532924 Mejor puntuación 188.00481153272528\n",
      "Generación 42, x = -13.71148465822448 Mejor puntuación 188.00481153272528\n",
      "Generación 43, x = -13.71148465822448 Mejor puntuación 188.00481153272528\n",
      "Generación 44, x = -13.71148465822448 Mejor puntuación 188.00481153272528\n",
      "Generación 45, x = -13.71148465822448 Mejor puntuación 188.00481153272528\n",
      "Generación 46, x = -13.71148465822448 Mejor puntuación 188.00481153272528\n",
      "Generación 47, x = -13.891573526133856 Mejor puntuación 213.61092160145705\n",
      "Generación 48, x = -14.479491370306558 Mejor puntuación 213.61092160145705\n",
      "Generación 49, x = -14.615434362394334 Mejor puntuación 213.61092160145705\n",
      "Generación 50, x = -14.615434362394334 Mejor puntuación 227.1059165888208\n",
      "Generación 51, x = -14.839903565821693 Mejor puntuación 227.1059165888208\n",
      "Generación 52, x = -14.954968647338237 Mejor puntuación 227.1059165888208\n",
      "Generación 53, x = -14.954968647338237 Mejor puntuación 223.65108724286972\n",
      "Generación 54, x = -15.087639664561213 Mejor puntuación 231.6578572500338\n",
      "Generación 55, x = -15.097031306048567 Mejor puntuación 231.6578572500338\n",
      "Generación 56, x = -16.0306336433393 Mejor puntuación 256.98121500696186\n",
      "Generación 57, x = -15.81146902579765 Mejor puntuación 261.0126478997858\n",
      "Generación 58, x = -15.913700126369125 Mejor puntuación 261.0126478997858\n",
      "Generación 59, x = -16.483612664523577 Mejor puntuación 289.5054928238834\n",
      "Generación 60, x = -16.749236802501954 Mejor puntuación 289.5054928238834\n",
      "Generación 61, x = -17.717046655834015 Mejor puntuación 313.8937422049992\n",
      "Generación 62, x = -17.255979030615656 Mejor puntuación 313.8937422049992\n",
      "Generación 63, x = -17.664671962614015 Mejor puntuación 322.3514808004231\n",
      "Generación 64, x = -18.14965704661739 Mejor puntuación 341.87652811913307\n",
      "Generación 65, x = -18.489903410216428 Mejor puntuación 341.87652811913307\n",
      "Generación 66, x = -18.234718637517147 Mejor puntuación 341.87652811913307\n",
      "Generación 67, x = -18.40484181931667 Mejor puntuación 344.1000500777122\n",
      "Generación 68, x = -18.441114855547823 Mejor puntuación 342.98738818156846\n",
      "Generación 69, x = -18.560597043669727 Mejor puntuación 346.00744651075985\n",
      "Generación 70, x = -18.597489266528928 Mejor puntuación 346.00744651075985\n",
      "Generación 71, x = -18.570766632779943 Mejor puntuación 345.86660701865867\n",
      "Generación 72, x = -19.039311674803344 Mejor puntuación 379.5145851628539\n",
      "Generación 73, x = -19.68325306975224 Mejor puntuación 395.42802182251654\n",
      "Generación 74, x = -19.460272735035183 Mejor puntuación 387.430451407911\n",
      "Generación 75, x = -19.572797467683635 Mejor puntuación 415.0715322036758\n",
      "Generación 76, x = -18.968075960313573 Mejor puntuación 415.0715322036758\n",
      "Generación 77, x = -20.173177667447636 Mejor puntuación 406.957097202408\n",
      "Generación 78, x = -20.173177667447636 Mejor puntuación 406.957097202408\n",
      "Generación 79, x = -20.173177667447636 Mejor puntuación 406.957097202408\n",
      "Generación 80, x = -20.173177667447636 Mejor puntuación 406.957097202408\n",
      "Generación 81, x = -20.173177667447636 Mejor puntuación 447.2163608116546\n",
      "Generación 82, x = -20.852971975837562 Mejor puntuación 483.44564467219413\n",
      "Generación 83, x = -21.56744402803892 Mejor puntuación 483.44564467219413\n",
      "Generación 84, x = -21.8824090612167 Mejor puntuación 483.44564467219413\n",
      "Generación 85, x = -21.981836027341465 Mejor puntuación 483.2011151329272\n",
      "Generación 86, x = -21.95558894124332 Mejor puntuación 483.2011151329272\n",
      "Generación 87, x = -21.968712484292393 Mejor puntuación 483.2011151329272\n",
      "Generación 88, x = -21.981836027341465 Mejor puntuación 483.2011151329272\n",
      "Generación 89, x = -21.981140855057987 Mejor puntuación 483.2011151329272\n",
      "Generación 90, x = -21.981836027341465 Mejor puntuación 483.2011151329272\n",
      "Generación 91, x = -21.981836027341465 Mejor puntuación 483.2011151329272\n",
      "Generación 92, x = -21.981836027341465 Mejor puntuación 483.2011151329272\n",
      "Generación 93, x = -21.981836027341465 Mejor puntuación 483.2011151329272\n",
      "Generación 94, x = -21.981836027341465 Mejor puntuación 483.2011151329272\n",
      "Generación 95, x = -21.981836027341465 Mejor puntuación 483.2011151329272\n",
      "Generación 96, x = -21.981836027341465 Mejor puntuación 483.2011151329272\n",
      "Generación 97, x = -22.699581473101997 Mejor puntuación 515.2709990539954\n",
      "Generación 98, x = -22.34070875022173 Mejor puntuación 534.0361214327504\n",
      "Generación 99, x = -22.801991496576782 Mejor puntuación 534.0361214327504\n",
      "Generación 100, x = -22.99743759332854 Mejor puntuación 534.0361214327504\n",
      "Generación 101, x = -22.674099440402955 Mejor puntuación 553.4723002711243\n",
      "Generación 102, x = -23.131919686196397 Mejor puntuación 541.3254517448443\n",
      "Generación 103, x = -23.1979889888556 Mejor puntuación 541.2164081909985\n",
      "Generación 104, x = -23.230437768297836 Mejor puntuación 541.161890533026\n",
      "Generación 105, x = -23.26259361179639 Mejor puntuación 541.161890533026\n",
      "Generación 106, x = -22.91815189370796 Mejor puntuación 544.4853745736208\n",
      "Generación 107, x = -23.316379430219868 Mejor puntuación 544.4853745736208\n",
      "Generación 108, x = -23.316379430219868 Mejor puntuación 544.4853745736208\n",
      "Generación 109, x = -23.334210391046465 Mejor puntuación 559.1845846695554\n",
      "Generación 110, x = -23.647084062724424 Mejor puntuación 559.1845846695554\n",
      "Generación 111, x = -24.143573075872897 Mejor puntuación 590.1945179726862\n",
      "Generación 112, x = -24.143573075872897 Mejor puntuación 582.9121208700146\n",
      "Generación 113, x = -24.143573075872897 Mejor puntuación 582.9121208700146\n",
      "Generación 114, x = -24.143573075872897 Mejor puntuación 582.9121208700146\n",
      "Generación 115, x = -24.143573075872897 Mejor puntuación 582.9121208700146\n",
      "Generación 116, x = -24.143573075872897 Mejor puntuación 582.9121208700146\n",
      "Generación 117, x = -23.6079372985115 Mejor puntuación 585.6781695433049\n",
      "Generación 118, x = -23.20008890839335 Mejor puntuación 585.6781695433049\n",
      "Generación 119, x = -24.17933278725131 Mejor puntuación 585.6781695433049\n",
      "Generación 120, x = -24.19363667180268 Mejor puntuación 585.6781695433049\n",
      "Generación 121, x = -24.59750161187894 Mejor puntuación 625.2471505831865\n",
      "Generación 122, x = -25.640075412580405 Mejor puntuación 625.2471505831865\n",
      "Generación 123, x = -24.80211606027045 Mejor puntuación 657.4134671628102\n",
      "Generación 124, x = -24.97150121524664 Mejor puntuación 657.4134671628102\n",
      "Generación 125, x = -26.023672966996884 Mejor puntuación 698.0821244684201\n",
      "Generación 126, x = -26.263148914285765 Mejor puntuación 689.7529908939496\n",
      "Generación 127, x = -26.024256367919477 Mejor puntuación 705.0536124066257\n",
      "Generación 128, x = -26.20018068473432 Mejor puntuación 694.2238648124951\n",
      "Generación 129, x = -26.311916205431736 Mejor puntuación 731.1631902948837\n",
      "Generación 130, x = -26.3481282980878 Mejor puntuación 745.3505368550452\n",
      "Generación 131, x = -26.602280002188866 Mejor puntuación 745.3505368550452\n",
      "Generación 132, x = -26.73226156941201 Mejor puntuación 759.5783212873675\n",
      "Generación 133, x = -26.98373441629233 Mejor puntuación 755.967256182743\n",
      "Generación 134, x = -27.51468108178951 Mejor puntuación 762.0074743369598\n",
      "Generación 135, x = -27.51468108178951 Mejor puntuación 758.4420801960332\n",
      "Generación 136, x = -27.533540643080286 Mejor puntuación 758.4420801960332\n",
      "Generación 137, x = -27.539827163510544 Mejor puntuación 758.4420801960332\n",
      "Generación 138, x = -27.680086468729435 Mejor puntuación 775.0059130151694\n",
      "Generación 139, x = -27.689377589172814 Mejor puntuación 766.7016312757856\n",
      "Generación 140, x = -27.689377589172814 Mejor puntuación 766.7016312757856\n",
      "Generación 141, x = -27.689377589172814 Mejor puntuación 766.7016312757856\n",
      "Generación 142, x = -27.689377589172814 Mejor puntuación 809.8006847410064\n",
      "Generación 143, x = -27.88128247035678 Mejor puntuación 813.3519669012301\n",
      "Generación 144, x = -28.443376068306645 Mejor puntuación 813.3519669012301\n",
      "Generación 145, x = -28.443376068306645 Mejor puntuación 809.0256421631192\n",
      "Generación 146, x = -27.676100204454286 Mejor puntuación 809.0256421631192\n",
      "Generación 147, x = -28.443376068306645 Mejor puntuación 809.0256421631192\n",
      "Generación 148, x = -28.443376068306645 Mejor puntuación 809.0256421631192\n",
      "Generación 149, x = -28.443376068306645 Mejor puntuación 809.0256421631192\n",
      "Generación 150, x = -28.443376068306645 Mejor puntuación 809.0256421631192\n",
      "Generación 151, x = -28.443376068306645 Mejor puntuación 834.5407906201524\n",
      "Generación 152, x = -28.554636966956387 Mejor puntuación 834.5407906201524\n",
      "Generación 153, x = -28.77715876425588 Mejor puntuación 833.2877878173123\n",
      "Generación 154, x = -28.86492502928775 Mejor puntuación 835.6671673594916\n",
      "Generación 155, x = -28.86582480325591 Mejor puntuación 882.8124828402754\n",
      "Generación 156, x = -29.745983708263864 Mejor puntuación 891.0858670221986\n",
      "Generación 157, x = -29.480105180387937 Mejor puntuación 891.0858670221986\n",
      "Generación 158, x = -29.745983708263864 Mejor puntuación 885.4056478632464\n",
      "Generación 159, x = -30.392081546911726 Mejor puntuación 884.8235467722992\n",
      "Generación 160, x = -29.745983708263864 Mejor puntuación 923.6786207541322\n",
      "Generación 161, x = -30.62782367331169 Mejor puntuación 904.1467231589394\n",
      "Generación 162, x = -30.401661785478 Mejor puntuación 944.5966397916051\n",
      "Generación 163, x = -30.973039942382066 Mejor puntuación 977.5016367043141\n",
      "Generación 164, x = -30.950202329547167 Mejor puntuación 966.1457547069391\n",
      "Generación 165, x = -31.020463879374937 Mejor puntuación 963.5605052242745\n",
      "Generación 166, x = -30.9996745570068 Mejor puntuación 963.5605052242745\n",
      "Generación 167, x = -30.572167286111327 Mejor puntuación 963.5605052242745\n",
      "Generación 168, x = -31.03086743911431 Mejor puntuación 1003.7590322612944\n",
      "Generación 169, x = -31.356511904621566 Mejor puntuación 1025.602219452694\n",
      "Generación 170, x = -31.690768399243446 Mejor puntuación 1004.304801734487\n",
      "Generación 171, x = -31.65071306353875 Mejor puntuación 1004.304801734487\n",
      "Generación 172, x = -31.6707407313911 Mejor puntuación 1004.304801734487\n",
      "Generación 173, x = -32.28883472314871 Mejor puntuación 1042.568847778814\n",
      "Generación 174, x = -31.989801561196078 Mejor puntuación 1042.568847778814\n",
      "Generación 175, x = -32.06455985168424 Mejor puntuación 1032.9357706437715\n",
      "Generación 176, x = -31.834037862509895 Mejor puntuación 1075.6342303821377\n",
      "Generación 177, x = -32.51824058175208 Mejor puntuación 1075.6342303821377\n",
      "Generación 178, x = -32.59924540782606 Mejor puntuación 1069.3760941840792\n",
      "Generación 179, x = -32.799585814637595 Mejor puntuación 1085.1503136898439\n",
      "Generación 180, x = -32.770432593607616 Mejor puntuación 1093.0792041102518\n",
      "Generación 181, x = -32.99620771787805 Mejor puntuación 1093.0792041102518\n",
      "Generación 182, x = -32.98119164626525 Mejor puntuación 1088.749723761355\n",
      "Generación 183, x = -32.988699682071655 Mejor puntuación 1088.749723761355\n",
      "Generación 184, x = -32.99245369997485 Mejor puntuación 1088.749723761355\n",
      "Generación 185, x = -32.99620771787805 Mejor puntuación 1088.749723761355\n",
      "Generación 186, x = -32.99620771787805 Mejor puntuación 1135.5348318144324\n",
      "Generación 187, x = -33.6649501701411 Mejor puntuación 1135.5348318144324\n",
      "Generación 188, x = -33.91053107373274 Mejor puntuación 1166.6399854075223\n",
      "Generación 189, x = -33.75804377574464 Mejor puntuación 1150.7326042090458\n",
      "Generación 190, x = -33.913510769211896 Mejor puntuación 1150.7326042090458\n",
      "Generación 191, x = -33.91798031243063 Mejor puntuación 1150.530455946677\n",
      "Generación 192, x = -33.91798031243063 Mejor puntuación 1150.530455946677\n",
      "Generación 193, x = -33.96997571256061 Mejor puntuación 1157.4438313909066\n",
      "Generación 194, x = -34.35960146181146 Mejor puntuación 1207.508791766033\n",
      "Generación 195, x = -34.385226699941555 Mejor puntuación 1182.3438152063736\n",
      "Generación 196, x = -34.42896419087677 Mejor puntuación 1230.5187529200814\n",
      "Generación 197, x = -35.56288330717142 Mejor puntuación 1230.5187529200814\n",
      "Generación 198, x = -35.07875073203265 Mejor puntuación 1264.7186691194916\n",
      "Generación 199, x = -34.94218780856493 Mejor puntuación 1247.5601149322085\n",
      "Mejor solución: x = -35.199783875817346, f(x) = 1239.0247849042507\n"
     ]
    }
   ],
   "source": [
    "n_generations = 200\n",
    "\n",
    "for generation in range(n_generations):\n",
    "    scores = np.array([fitness(x) for x in population])\n",
    "    new_population = []\n",
    "    for _ in range(population_size):\n",
    "        parent1 = select_parent_tournament(population, scores)\n",
    "        parent2 = select_parent_tournament(population, scores)\n",
    "        child = crossover(parent1, parent2)\n",
    "        child = mutate(child)\n",
    "        new_population.append(child)\n",
    "    population = np.array(new_population)\n",
    "    best_score = np.max(scores)\n",
    "    print(f\"Generación {generation}, x = {child} Mejor puntuación {best_score}\")\n",
    "\n",
    "best_solution = population[np.argmax(scores)]\n",
    "print(f\"Mejor solución: x = {best_solution}, f(x) = {fitness(best_solution)}\")\n"
   ]
  },
  {
   "cell_type": "markdown",
   "metadata": {},
   "source": [
    "Preparamos el dataset de prueba"
   ]
  },
  {
   "cell_type": "code",
   "execution_count": 4,
   "metadata": {},
   "outputs": [
    {
     "name": "stderr",
     "output_type": "stream",
     "text": [
      "c:\\Python311\\Lib\\site-packages\\tqdm\\auto.py:21: TqdmWarning: IProgress not found. Please update jupyter and ipywidgets. See https://ipywidgets.readthedocs.io/en/stable/user_install.html\n",
      "  from .autonotebook import tqdm as notebook_tqdm\n"
     ]
    }
   ],
   "source": [
    "import torch\n",
    "import torchvision\n",
    "import torchvision.datasets as datasets\n",
    "import torchvision.transforms as transforms\n",
    "from torch.utils.data import DataLoader\n",
    "import torch.nn as nn\n",
    "import torch.optim as optim\n",
    "import torch.nn.functional as F\n",
    "\n",
    "device = torch.device(\"cuda\" if torch.cuda.is_available() else \"cpu\")\n",
    "\n",
    "# Preparar los DataLoader para los conjuntos de entrenamiento y validación\n",
    "transform = transforms.Compose([\n",
    "    transforms.ToTensor(),\n",
    "    transforms.Normalize((0.5,), (0.5,))\n",
    "])\n",
    "\n",
    "train_dataset = datasets.MNIST(root='./data', train=True, download=True, transform=transform)\n",
    "val_dataset = datasets.MNIST(root='./data', train=False, download=True, transform=transform)\n",
    "\n",
    "train_loader = DataLoader(dataset=train_dataset, batch_size=64, shuffle=True)\n",
    "val_loader = DataLoader(dataset=val_dataset, batch_size=64, shuffle=False)\n"
   ]
  },
  {
   "cell_type": "markdown",
   "metadata": {},
   "source": [
    "comprobamos si tenemos acceso a la GPU\n"
   ]
  },
  {
   "cell_type": "code",
   "execution_count": 5,
   "metadata": {},
   "outputs": [
    {
     "name": "stdout",
     "output_type": "stream",
     "text": [
      "CUDA (GPU) está disponible en tu sistema.\n"
     ]
    }
   ],
   "source": [
    "if torch.cuda.is_available():\n",
    "    print(\"CUDA (GPU) está disponible en tu sistema.\")\n",
    "else:\n",
    "    print(\"CUDA (GPU) no está disponible en tu sistema.\")"
   ]
  },
  {
   "cell_type": "markdown",
   "metadata": {},
   "source": [
    "Generamos un par de arquitecturas de prueba"
   ]
  },
  {
   "cell_type": "code",
   "execution_count": 6,
   "metadata": {},
   "outputs": [],
   "source": [
    "class Net(nn.Module):\n",
    "    def __init__(self):\n",
    "        super(Net, self).__init__()\n",
    "        self.conv1 = nn.Conv2d(1, 10, kernel_size=5)\n",
    "        self.conv2 = nn.Conv2d(10, 20, kernel_size=5)\n",
    "        self.conv2_drop = nn.Dropout2d()\n",
    "        self.fc1 = nn.Linear(320, 50)\n",
    "        self.fc2 = nn.Linear(50, 10)\n",
    "\n",
    "    def forward(self, x):\n",
    "        x = F.relu(F.max_pool2d(self.conv1(x), 2))\n",
    "        x = F.relu(F.max_pool2d(self.conv2_drop(self.conv2(x)), 2))\n",
    "        x = x.view(-1, 320)\n",
    "        x = F.relu(self.fc1(x))\n",
    "        x = F.dropout(x, training=self.training)\n",
    "        x = self.fc2(x)\n",
    "        return F.log_softmax(x, dim=1)\n",
    "    \n"
   ]
  },
  {
   "cell_type": "markdown",
   "metadata": {},
   "source": [
    "Construimos una función que sea capaz de crear modelos en base a vectores que representen la arquitectura de la red.\n",
    "De este modo el algorimo evolutivo puede ir adaptando y cambiando la red fácilmente"
   ]
  },
  {
   "cell_type": "code",
   "execution_count": 7,
   "metadata": {},
   "outputs": [],
   "source": [
    "import torch\n",
    "\n",
    "def build_cnn_from_individual(individual):\n",
    "    layers = []\n",
    "    num_layers = individual['num_conv_layers']\n",
    "    out_channels_previous_layer = 1  # Imagen de entrada en escala de grises (1 canal para MNIST)\n",
    "\n",
    "    for i in range(num_layers):\n",
    "        out_channels = individual['filters'][i]\n",
    "        kernel_size = individual['filter_sizes'][i]\n",
    "        \n",
    "        conv_layer = nn.Conv2d(out_channels_previous_layer, out_channels, kernel_size=kernel_size, padding=1)\n",
    "        layers.append(conv_layer)\n",
    "        layers.append(nn.ReLU())\n",
    "        layers.append(nn.MaxPool2d(kernel_size=2, stride=2))\n",
    "\n",
    "        out_channels_previous_layer = out_channels\n",
    "\n",
    "    # Temporalmente crear un modelo para calcular el tamaño de salida de las capas convolucionales\n",
    "    temp_model = nn.Sequential(*layers)\n",
    "\n",
    "    # Calcular el tamaño de salida usando un tensor dummy\n",
    "    dummy_input = torch.zeros(1, 1, 28, 28)  # Tamaño de entrada para MNIST\n",
    "    output_size = temp_model(dummy_input).view(-1).shape[0]\n",
    "\n",
    "    # Ahora, sabiendo el tamaño de salida, podemos definir las capas lineales correctamente\n",
    "    layers.append(nn.Flatten())\n",
    "    layers.append(nn.Linear(output_size, 10))  # Salida de 10 clases para MNIST\n",
    "    return nn.Sequential(*layers)\n",
    "\n",
    "\n",
    "population_size = 10\n",
    "min_conv_layers = 1\n",
    "max_conv_layers = 3\n",
    "min_filters = 16\n",
    "max_filters = 128\n",
    "filter_sizes = [3, 5]\n",
    "\n",
    "\n"
   ]
  },
  {
   "cell_type": "markdown",
   "metadata": {},
   "source": [
    "Definimos la población inicial"
   ]
  },
  {
   "cell_type": "code",
   "execution_count": 8,
   "metadata": {},
   "outputs": [],
   "source": [
    "import random\n",
    "from tqdm import tqdm\n",
    "\n",
    "def generate_individual(min_conv_layers, max_conv_layers, min_filters, max_filters, filter_sizes, lr_min, lr_max):\n",
    "    individual = {\n",
    "        'num_conv_layers': random.randint(min_conv_layers, max_conv_layers),\n",
    "        'filters': [],\n",
    "        'filter_sizes': [],\n",
    "        'learning_rate': random.uniform(lr_min, lr_max),\n",
    "    }\n",
    "\n",
    "    for _ in range(individual['num_conv_layers']):\n",
    "        individual['filters'].append(random.randint(min_filters, max_filters))\n",
    "        individual['filter_sizes'].append(random.choice(filter_sizes))\n",
    "    \n",
    "    # Agrega más parámetros según sea necesario, como capas completamente conectadas, etc.\n",
    "\n",
    "    return individual\n",
    "\n",
    "def initialize_population(pop_size, min_conv_layers, max_conv_layers, min_filters, max_filters, filter_sizes, lr_min, lr_max):\n",
    "    return [generate_individual(min_conv_layers, max_conv_layers, min_filters, max_filters, filter_sizes, lr_min, lr_max) for _ in range(pop_size)]\n"
   ]
  },
  {
   "cell_type": "code",
   "execution_count": 9,
   "metadata": {},
   "outputs": [
    {
     "data": {
      "text/plain": [
       "[{'num_conv_layers': 2,\n",
       "  'filters': [106, 114],\n",
       "  'filter_sizes': [3, 3],\n",
       "  'learning_rate': 0.006497994066288489},\n",
       " {'num_conv_layers': 2,\n",
       "  'filters': [121, 81],\n",
       "  'filter_sizes': [3, 5],\n",
       "  'learning_rate': 0.0041891796859719835},\n",
       " {'num_conv_layers': 3,\n",
       "  'filters': [30, 31, 46],\n",
       "  'filter_sizes': [3, 5, 3],\n",
       "  'learning_rate': 0.00024720079790209633},\n",
       " {'num_conv_layers': 2,\n",
       "  'filters': [34, 109],\n",
       "  'filter_sizes': [5, 5],\n",
       "  'learning_rate': 0.007874192181446684},\n",
       " {'num_conv_layers': 3,\n",
       "  'filters': [118, 32, 20],\n",
       "  'filter_sizes': [3, 3, 3],\n",
       "  'learning_rate': 0.008895097326435177},\n",
       " {'num_conv_layers': 2,\n",
       "  'filters': [18, 99],\n",
       "  'filter_sizes': [5, 5],\n",
       "  'learning_rate': 0.005630703484325661},\n",
       " {'num_conv_layers': 3,\n",
       "  'filters': [41, 95, 66],\n",
       "  'filter_sizes': [3, 3, 5],\n",
       "  'learning_rate': 0.00962754585611119},\n",
       " {'num_conv_layers': 1,\n",
       "  'filters': [82],\n",
       "  'filter_sizes': [3],\n",
       "  'learning_rate': 0.004547750730214854},\n",
       " {'num_conv_layers': 1,\n",
       "  'filters': [112],\n",
       "  'filter_sizes': [5],\n",
       "  'learning_rate': 0.007126761598648627},\n",
       " {'num_conv_layers': 3,\n",
       "  'filters': [29, 77, 103],\n",
       "  'filter_sizes': [5, 3, 5],\n",
       "  'learning_rate': 0.002196719327628927}]"
      ]
     },
     "execution_count": 9,
     "metadata": {},
     "output_type": "execute_result"
    }
   ],
   "source": [
    "\n",
    "# Ajusta estos valores según tus necesidades\n",
    "population_size = 10\n",
    "min_conv_layers = 1\n",
    "max_conv_layers = 3\n",
    "min_filters = 16\n",
    "max_filters = 128\n",
    "filter_sizes = [3, 5]\n",
    "lr_min = 0.0001\n",
    "lr_max = 0.01\n",
    "\n",
    "population = initialize_population(population_size, min_conv_layers, max_conv_layers, min_filters, max_filters, filter_sizes, lr_min, lr_max)\n",
    "\n",
    "epochs = 10\n",
    "\n",
    "population\n"
   ]
  },
  {
   "cell_type": "markdown",
   "metadata": {},
   "source": [
    "definimos el entrenamiento y testeo"
   ]
  },
  {
   "cell_type": "code",
   "execution_count": 10,
   "metadata": {},
   "outputs": [],
   "source": [
    "from tqdm import tqdm\n",
    "import torch.optim as optim\n",
    "import torch.nn as nn\n",
    "\n",
    "def evaluate_individual(individual, train_loader, val_loader, device='cuda', epochs=5):\n",
    "    # Construir el modelo basado en el individuo\n",
    "    model = build_cnn_from_individual(individual).to(device)\n",
    "    \n",
    "    # Definir el optimizador y la función de pérdida\n",
    "    optimizer = torch.optim.Adam(model.parameters(), lr=individual['learning_rate'])\n",
    "    criterion = nn.CrossEntropyLoss()\n",
    "\n",
    "    # Entrenamiento\n",
    "    for epoch in range(epochs):\n",
    "        model.train()\n",
    "        progress_bar = tqdm(total=len(train_loader), desc=f'Epoch {epoch+1}/{epochs}', unit='batch')\n",
    "        for data, targets in train_loader:\n",
    "            data, targets = data.to(device), targets.to(device)\n",
    "            optimizer.zero_grad()\n",
    "            output = model(data)\n",
    "            loss = criterion(output, targets)\n",
    "            loss.backward()\n",
    "            optimizer.step()\n",
    "\n",
    "            # Actualizar la barra de progreso con la última información de pérdida\n",
    "            progress_bar.set_postfix({'training_loss': '{:.3f}'.format(loss.item())})\n",
    "            progress_bar.update()  # Forzar la actualización de la barra de progreso\n",
    "            \n",
    "        progress_bar.close()  # Cerrar la barra de progreso al final de cada época\n",
    "\n",
    "    # Evaluación\n",
    "    model.eval()\n",
    "    correct = 0\n",
    "    total = 0\n",
    "    with torch.no_grad():\n",
    "        for data, targets in val_loader:\n",
    "            data, targets = data.to(device), targets.to(device)\n",
    "            outputs = model(data)\n",
    "            _, predicted = torch.max(outputs.data, 1)\n",
    "            total += targets.size(0)\n",
    "            correct += (predicted == targets).sum().item()\n",
    "\n",
    "    accuracy = correct / total\n",
    "    return accuracy  # Esta es la \"aptitud\" del individuo\n"
   ]
  },
  {
   "cell_type": "markdown",
   "metadata": {},
   "source": [
    "Generamos la mutación"
   ]
  },
  {
   "cell_type": "code",
   "execution_count": 11,
   "metadata": {},
   "outputs": [],
   "source": [
    "def mutate_individual(individual):\n",
    "    \"\"\"\n",
    "    Mutar un individuo cambiando aleatoriamente sus hiperparámetros.\n",
    "    \"\"\"\n",
    "    # Define los rangos de mutación para cada hiperparámetro\n",
    "    mutation_rate = 0.1  # Probabilidad de mutar cada característica\n",
    "    lr_range = (0.0001, 0.01)\n",
    "    conv_range = (1, 5)\n",
    "\n",
    "    if random.random() < mutation_rate:\n",
    "        # Mutar la tasa de aprendizaje\n",
    "        individual['learning_rate'] = random.uniform(*lr_range)\n",
    "\n",
    "    for i in range(len(individual['num_conv_layers'])):\n",
    "        if random.random() < mutation_rate:\n",
    "            # Mutar el número de capas\n",
    "            individual['num_conv_layers'][i] = random.randint(*conv_range)\n",
    "\n",
    "    return individual"
   ]
  },
  {
   "cell_type": "markdown",
   "metadata": {},
   "source": [
    "Y el cruce entre individuos"
   ]
  },
  {
   "cell_type": "code",
   "execution_count": 12,
   "metadata": {},
   "outputs": [],
   "source": [
    "def crossover(parent1, parent2):\n",
    "    \"\"\"\n",
    "    Realiza un cruce uniforme entre dos individuos.\n",
    "    \n",
    "    Args:\n",
    "        parent1 (dict): El primer individuo padre.\n",
    "        parent2 (dict): El segundo individuo padre.\n",
    "    \n",
    "    Returns:\n",
    "        dict: Un nuevo individuo hijo.\n",
    "    \"\"\"\n",
    "    child = {}\n",
    "    \n",
    "    for key in parent1:\n",
    "        if random.random() < 0.5:\n",
    "            child[key] = parent1[key]\n",
    "        else:\n",
    "            child[key] = parent2[key]\n",
    "            \n",
    "    return child"
   ]
  },
  {
   "cell_type": "code",
   "execution_count": 13,
   "metadata": {},
   "outputs": [],
   "source": [
    "def evaluate_population(population, train_loader, val_loader, device):\n",
    "    fitness_scores = []\n",
    "    \n",
    "    for individual in population:\n",
    "        print(individual)\n",
    "        fitness = evaluate_individual(individual, train_loader, val_loader, device)\n",
    "        fitness_scores.append(fitness)\n",
    "    \n",
    "    return fitness_scores\n",
    "\n",
    "\n"
   ]
  },
  {
   "cell_type": "markdown",
   "metadata": {},
   "source": [
    "Recopilamos lo que hemos realizado, hemos creado las posibles mutaciones sobre las arquitecturas, los posibles cruces, la evaluación de los modelos.\n"
   ]
  },
  {
   "cell_type": "markdown",
   "metadata": {},
   "source": [
    "Queda realizar:\n",
    "- Selección de reproducción: por torneo en principio para también  puede ser por torneo o ruleta\n",
    "- Creación de la nueva generación usando las funciones de mutación y cruces\n",
    "- Criterios de parada\n",
    "- Registro de análisis"
   ]
  },
  {
   "cell_type": "code",
   "execution_count": 14,
   "metadata": {},
   "outputs": [
    {
     "name": "stdout",
     "output_type": "stream",
     "text": [
      "{'num_conv_layers': 2, 'filters': [106, 114], 'filter_sizes': [3, 3], 'learning_rate': 0.006497994066288489}\n"
     ]
    },
    {
     "name": "stderr",
     "output_type": "stream",
     "text": [
      "Epoch 1/5: 100%|██████████| 938/938 [00:14<00:00, 62.77batch/s, training_loss=0.063]\n",
      "Epoch 2/5: 100%|██████████| 938/938 [00:14<00:00, 63.42batch/s, training_loss=0.161]\n",
      "Epoch 3/5: 100%|██████████| 938/938 [00:14<00:00, 65.13batch/s, training_loss=0.011]\n",
      "Epoch 4/5: 100%|██████████| 938/938 [00:14<00:00, 62.57batch/s, training_loss=0.007]\n",
      "Epoch 5/5: 100%|██████████| 938/938 [00:14<00:00, 62.91batch/s, training_loss=0.092]\n"
     ]
    },
    {
     "name": "stdout",
     "output_type": "stream",
     "text": [
      "{'num_conv_layers': 2, 'filters': [121, 81], 'filter_sizes': [3, 5], 'learning_rate': 0.0041891796859719835}\n"
     ]
    },
    {
     "name": "stderr",
     "output_type": "stream",
     "text": [
      "Epoch 1/5: 100%|██████████| 938/938 [00:15<00:00, 62.02batch/s, training_loss=0.097]\n",
      "Epoch 2/5: 100%|██████████| 938/938 [00:14<00:00, 63.91batch/s, training_loss=0.009]\n",
      "Epoch 3/5: 100%|██████████| 938/938 [00:15<00:00, 60.75batch/s, training_loss=0.009]\n",
      "Epoch 4/5: 100%|██████████| 938/938 [00:14<00:00, 65.02batch/s, training_loss=0.201]\n",
      "Epoch 5/5: 100%|██████████| 938/938 [00:14<00:00, 64.18batch/s, training_loss=0.006]\n"
     ]
    },
    {
     "name": "stdout",
     "output_type": "stream",
     "text": [
      "{'num_conv_layers': 3, 'filters': [30, 31, 46], 'filter_sizes': [3, 5, 3], 'learning_rate': 0.00024720079790209633}\n"
     ]
    },
    {
     "name": "stderr",
     "output_type": "stream",
     "text": [
      "Epoch 1/5: 100%|██████████| 938/938 [00:12<00:00, 72.62batch/s, training_loss=0.072]\n",
      "Epoch 2/5: 100%|██████████| 938/938 [00:13<00:00, 68.12batch/s, training_loss=0.012]\n",
      "Epoch 3/5: 100%|██████████| 938/938 [00:14<00:00, 63.55batch/s, training_loss=0.026]\n",
      "Epoch 4/5: 100%|██████████| 938/938 [00:14<00:00, 63.77batch/s, training_loss=0.027]\n",
      "Epoch 5/5: 100%|██████████| 938/938 [00:14<00:00, 64.72batch/s, training_loss=0.119]\n"
     ]
    },
    {
     "name": "stdout",
     "output_type": "stream",
     "text": [
      "{'num_conv_layers': 2, 'filters': [34, 109], 'filter_sizes': [5, 5], 'learning_rate': 0.007874192181446684}\n"
     ]
    },
    {
     "name": "stderr",
     "output_type": "stream",
     "text": [
      "Epoch 1/5: 100%|██████████| 938/938 [00:13<00:00, 67.29batch/s, training_loss=0.001]\n",
      "Epoch 2/5: 100%|██████████| 938/938 [00:14<00:00, 63.14batch/s, training_loss=0.000]\n",
      "Epoch 3/5: 100%|██████████| 938/938 [00:14<00:00, 63.10batch/s, training_loss=0.029]\n",
      "Epoch 4/5: 100%|██████████| 938/938 [00:14<00:00, 63.03batch/s, training_loss=0.148]\n",
      "Epoch 5/5: 100%|██████████| 938/938 [00:14<00:00, 62.92batch/s, training_loss=0.054]\n"
     ]
    },
    {
     "name": "stdout",
     "output_type": "stream",
     "text": [
      "{'num_conv_layers': 3, 'filters': [118, 32, 20], 'filter_sizes': [3, 3, 3], 'learning_rate': 0.008895097326435177}\n"
     ]
    },
    {
     "name": "stderr",
     "output_type": "stream",
     "text": [
      "Epoch 1/5: 100%|██████████| 938/938 [00:13<00:00, 68.59batch/s, training_loss=0.058]\n",
      "Epoch 2/5: 100%|██████████| 938/938 [00:14<00:00, 66.76batch/s, training_loss=0.132]\n",
      "Epoch 3/5: 100%|██████████| 938/938 [00:13<00:00, 68.81batch/s, training_loss=0.012]\n",
      "Epoch 4/5: 100%|██████████| 938/938 [00:14<00:00, 62.70batch/s, training_loss=0.063]\n",
      "Epoch 5/5: 100%|██████████| 938/938 [00:14<00:00, 62.80batch/s, training_loss=0.032]\n"
     ]
    },
    {
     "name": "stdout",
     "output_type": "stream",
     "text": [
      "{'num_conv_layers': 2, 'filters': [18, 99], 'filter_sizes': [5, 5], 'learning_rate': 0.005630703484325661}\n"
     ]
    },
    {
     "name": "stderr",
     "output_type": "stream",
     "text": [
      "Epoch 1/5: 100%|██████████| 938/938 [00:14<00:00, 63.24batch/s, training_loss=0.009]\n",
      "Epoch 2/5: 100%|██████████| 938/938 [00:13<00:00, 68.01batch/s, training_loss=0.066]\n",
      "Epoch 3/5: 100%|██████████| 938/938 [00:13<00:00, 71.99batch/s, training_loss=0.015]\n",
      "Epoch 4/5: 100%|██████████| 938/938 [00:12<00:00, 76.16batch/s, training_loss=0.073]\n",
      "Epoch 5/5: 100%|██████████| 938/938 [00:13<00:00, 69.20batch/s, training_loss=0.016]\n"
     ]
    },
    {
     "name": "stdout",
     "output_type": "stream",
     "text": [
      "{'num_conv_layers': 3, 'filters': [41, 95, 66], 'filter_sizes': [3, 3, 5], 'learning_rate': 0.00962754585611119}\n"
     ]
    },
    {
     "name": "stderr",
     "output_type": "stream",
     "text": [
      "Epoch 1/5: 100%|██████████| 938/938 [00:14<00:00, 64.04batch/s, training_loss=0.142]\n",
      "Epoch 2/5: 100%|██████████| 938/938 [00:14<00:00, 63.23batch/s, training_loss=0.164]\n",
      "Epoch 3/5: 100%|██████████| 938/938 [00:15<00:00, 62.38batch/s, training_loss=0.016]\n",
      "Epoch 4/5: 100%|██████████| 938/938 [00:14<00:00, 63.90batch/s, training_loss=0.019]\n",
      "Epoch 5/5: 100%|██████████| 938/938 [00:13<00:00, 69.05batch/s, training_loss=0.012]\n"
     ]
    },
    {
     "name": "stdout",
     "output_type": "stream",
     "text": [
      "{'num_conv_layers': 1, 'filters': [82], 'filter_sizes': [3], 'learning_rate': 0.004547750730214854}\n"
     ]
    },
    {
     "name": "stderr",
     "output_type": "stream",
     "text": [
      "Epoch 1/5: 100%|██████████| 938/938 [00:13<00:00, 70.07batch/s, training_loss=0.092]\n",
      "Epoch 2/5: 100%|██████████| 938/938 [00:14<00:00, 65.43batch/s, training_loss=0.028]\n",
      "Epoch 3/5: 100%|██████████| 938/938 [00:14<00:00, 65.16batch/s, training_loss=0.007]\n",
      "Epoch 4/5: 100%|██████████| 938/938 [00:14<00:00, 65.35batch/s, training_loss=0.047]\n",
      "Epoch 5/5: 100%|██████████| 938/938 [00:14<00:00, 65.33batch/s, training_loss=0.106]\n"
     ]
    },
    {
     "name": "stdout",
     "output_type": "stream",
     "text": [
      "{'num_conv_layers': 1, 'filters': [112], 'filter_sizes': [5], 'learning_rate': 0.007126761598648627}\n"
     ]
    },
    {
     "name": "stderr",
     "output_type": "stream",
     "text": [
      "Epoch 1/5: 100%|██████████| 938/938 [00:12<00:00, 75.66batch/s, training_loss=0.044]\n",
      "Epoch 2/5: 100%|██████████| 938/938 [00:14<00:00, 63.89batch/s, training_loss=0.063]\n",
      "Epoch 3/5: 100%|██████████| 938/938 [00:12<00:00, 75.27batch/s, training_loss=0.005]\n",
      "Epoch 4/5: 100%|██████████| 938/938 [00:14<00:00, 64.12batch/s, training_loss=0.071]\n",
      "Epoch 5/5: 100%|██████████| 938/938 [00:14<00:00, 64.13batch/s, training_loss=0.000]\n"
     ]
    },
    {
     "name": "stdout",
     "output_type": "stream",
     "text": [
      "{'num_conv_layers': 3, 'filters': [29, 77, 103], 'filter_sizes': [5, 3, 5], 'learning_rate': 0.002196719327628927}\n"
     ]
    },
    {
     "name": "stderr",
     "output_type": "stream",
     "text": [
      "Epoch 1/5: 100%|██████████| 938/938 [00:14<00:00, 62.97batch/s, training_loss=0.008]\n",
      "Epoch 2/5: 100%|██████████| 938/938 [00:12<00:00, 73.33batch/s, training_loss=0.005]\n",
      "Epoch 3/5: 100%|██████████| 938/938 [00:12<00:00, 73.26batch/s, training_loss=0.056]\n",
      "Epoch 4/5: 100%|██████████| 938/938 [00:14<00:00, 64.78batch/s, training_loss=0.000]\n",
      "Epoch 5/5: 100%|██████████| 938/938 [00:14<00:00, 64.95batch/s, training_loss=0.012]\n"
     ]
    },
    {
     "name": "stdout",
     "output_type": "stream",
     "text": [
      "Individuo 0: Aptitud = 0.9909\n",
      "Individuo 1: Aptitud = 0.9887\n",
      "Individuo 2: Aptitud = 0.9856\n",
      "Individuo 3: Aptitud = 0.9845\n",
      "Individuo 4: Aptitud = 0.9839\n",
      "Individuo 5: Aptitud = 0.9825\n",
      "Individuo 6: Aptitud = 0.9824\n",
      "Individuo 7: Aptitud = 0.9809\n",
      "Individuo 8: Aptitud = 0.9808\n",
      "Individuo 9: Aptitud = 0.9763\n"
     ]
    }
   ],
   "source": [
    "# Asumiendo que 'population' ya ha sido inicializada\n",
    "fitness_scores = evaluate_population(population, train_loader, val_loader, device)\n",
    "\n",
    "# Opcional: Almacenar los individuos y sus puntuaciones en una lista de tuplas y ordenarlos\n",
    "population_with_scores = list(zip(population, fitness_scores))\n",
    "population_with_scores.sort(key=lambda x: x[1], reverse=True)  # Ordena de mayor a menor aptitud\n",
    "\n",
    "# Imprime los resultados\n",
    "for i, (individual, score) in enumerate(population_with_scores):\n",
    "    print(f\"Individuo {individual}: Aptitud = {score}\")"
   ]
  },
  {
   "cell_type": "code",
   "execution_count": 15,
   "metadata": {},
   "outputs": [
    {
     "name": "stdout",
     "output_type": "stream",
     "text": [
      "Individuo {'num_conv_layers': 3, 'filters': [29, 77, 103], 'filter_sizes': [5, 3, 5], 'learning_rate': 0.002196719327628927}: Aptitud = 0.9909\n",
      "Individuo {'num_conv_layers': 3, 'filters': [30, 31, 46], 'filter_sizes': [3, 5, 3], 'learning_rate': 0.00024720079790209633}: Aptitud = 0.9887\n",
      "Individuo {'num_conv_layers': 2, 'filters': [106, 114], 'filter_sizes': [3, 3], 'learning_rate': 0.006497994066288489}: Aptitud = 0.9856\n",
      "Individuo {'num_conv_layers': 3, 'filters': [41, 95, 66], 'filter_sizes': [3, 3, 5], 'learning_rate': 0.00962754585611119}: Aptitud = 0.9845\n",
      "Individuo {'num_conv_layers': 2, 'filters': [121, 81], 'filter_sizes': [3, 5], 'learning_rate': 0.0041891796859719835}: Aptitud = 0.9839\n",
      "Individuo {'num_conv_layers': 2, 'filters': [34, 109], 'filter_sizes': [5, 5], 'learning_rate': 0.007874192181446684}: Aptitud = 0.9825\n",
      "Individuo {'num_conv_layers': 1, 'filters': [112], 'filter_sizes': [5], 'learning_rate': 0.007126761598648627}: Aptitud = 0.9824\n",
      "Individuo {'num_conv_layers': 2, 'filters': [18, 99], 'filter_sizes': [5, 5], 'learning_rate': 0.005630703484325661}: Aptitud = 0.9809\n",
      "Individuo {'num_conv_layers': 1, 'filters': [82], 'filter_sizes': [3], 'learning_rate': 0.004547750730214854}: Aptitud = 0.9808\n",
      "Individuo {'num_conv_layers': 3, 'filters': [118, 32, 20], 'filter_sizes': [3, 3, 3], 'learning_rate': 0.008895097326435177}: Aptitud = 0.9763\n"
     ]
    }
   ],
   "source": [
    "for i, (individual, score) in enumerate(population_with_scores):\n",
    "    print(f\"Individuo {individual}: Aptitud = {score}\")"
   ]
  }
 ],
 "metadata": {
  "kernelspec": {
   "display_name": ".venv",
   "language": "python",
   "name": "python3"
  },
  "language_info": {
   "codemirror_mode": {
    "name": "ipython",
    "version": 3
   },
   "file_extension": ".py",
   "mimetype": "text/x-python",
   "name": "python",
   "nbconvert_exporter": "python",
   "pygments_lexer": "ipython3",
   "version": "3.11.5"
  }
 },
 "nbformat": 4,
 "nbformat_minor": 2
}
